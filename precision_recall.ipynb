{
 "cells": [
  {
   "cell_type": "code",
   "execution_count": 48,
   "metadata": {
    "collapsed": false
   },
   "outputs": [
    {
     "name": "stdout",
     "output_type": "stream",
     "text": [
      "s140.tif out_sample3_output_0-1-0001.tif\n",
      "s141.tif out_sample3_output_0-1-0002.tif\n",
      "s142.tif out_sample3_output_0-1-0003.tif\n",
      "s143.tif out_sample3_output_0-1-0004.tif\n",
      "s144.tif out_sample3_output_0-1-0005.tif\n",
      "s145.tif out_sample3_output_0-1-0006.tif\n",
      "s146.tif out_sample3_output_0-1-0007.tif\n",
      "s147.tif out_sample3_output_0-1-0008.tif\n",
      "s148.tif out_sample3_output_0-1-0009.tif\n",
      "s149.tif out_sample3_output_0-1-0010.tif\n",
      "s150.tif out_sample3_output_0-1-0011.tif\n",
      "s151.tif out_sample3_output_0-1-0012.tif\n",
      "s152.tif out_sample3_output_0-1-0013.tif\n",
      "s153.tif out_sample3_output_0-1-0014.tif\n",
      "s154.tif out_sample3_output_0-1-0015.tif\n",
      "s155.tif out_sample3_output_0-1-0016.tif\n",
      "s156.tif out_sample3_output_0-1-0017.tif\n",
      "s157.tif out_sample3_output_0-1-0018.tif\n"
     ]
    }
   ],
   "source": [
    "import numpy as np\n",
    "import os\n",
    "from PIL import Image\n",
    "\n",
    "path1 = \"./precision_recall/test_label/\"\n",
    "path2 = \"./precision_recall/test_pred/\"\n",
    "\n",
    "files1 = os.listdir(path1)\n",
    "files1.sort()\n",
    "\n",
    "files2 = os.listdir(path2)\n",
    "files2.sort()\n",
    "\n",
    "l = len(files1)\n",
    "i = 0\n",
    "\n",
    "pred = []\n",
    "label = []\n",
    "\n",
    "for file1, file2 in zip(files1, files2):\n",
    "    print file1, file2\n",
    "    img = Image.open(path1+file1)\n",
    "    img1 = np.array(img)\n",
    "    img1[img1>0] = 1\n",
    "    label.append(img1.flatten())\n",
    "    img0 = Image.open(path2+file2)\n",
    "    img2 = np.array(img0)\n",
    "    pred.append(img2.flatten())\n",
    "    \n",
    "    assert len(pred) == len(label)\n",
    "    \n",
    "    i = i+1\n",
    "    \n",
    "    if i>l:\n",
    "        break\n",
    "        \n",
    "p = np.hstack(pred)\n",
    "l = np.hstack(label)\n",
    "\n",
    "assert len(p) == len(l)"
   ]
  },
  {
   "cell_type": "code",
   "execution_count": 49,
   "metadata": {
    "collapsed": true
   },
   "outputs": [],
   "source": [
    "class precision_recall(object):\n",
    "    \"\"\"to calculate precision and recall given two flattened arrays of images and threshold\"\"\"\n",
    "    \n",
    "    def __init__(self, pred, label, threshold):\n",
    "        \"\"\"initialization\"\"\"\n",
    "        self.pred = pred\n",
    "        self.label = label\n",
    "        self.threshold = threshold\n",
    "        self.pred_t = np.zeros(len(pred), dtype = np.uint8)\n",
    "        self.pred_t[pred>threshold] = 1\n",
    "        self.TP = sum (self.pred_t*self.label)\n",
    "        \n",
    "    def precision(self):\n",
    "        \"\"\"calculate precision\"\"\"\n",
    "        self.FP = sum (self.pred_t*(1-self.label))\n",
    "        self.p = float(self.TP)/(self.TP+self.FP)\n",
    "        return self.p\n",
    "    \n",
    "    def recall(self):\n",
    "        \"\"\"calculate precision\"\"\"\n",
    "        self.FN = sum ((1-self.pred_t)*self.label)\n",
    "        self.r = float(self.TP)/(self.TP+self.FN)\n",
    "        return self.r\n",
    "        "
   ]
  },
  {
   "cell_type": "code",
   "execution_count": 50,
   "metadata": {
    "collapsed": false
   },
   "outputs": [],
   "source": [
    "a = precision_recall(pred = p, label = l, threshold = 0.5)"
   ]
  },
  {
   "cell_type": "code",
   "execution_count": 51,
   "metadata": {
    "collapsed": false
   },
   "outputs": [
    {
     "data": {
      "text/plain": [
       "0.7026446975030545"
      ]
     },
     "execution_count": 51,
     "metadata": {},
     "output_type": "execute_result"
    }
   ],
   "source": [
    "a.precision()"
   ]
  },
  {
   "cell_type": "code",
   "execution_count": 52,
   "metadata": {
    "collapsed": false
   },
   "outputs": [
    {
     "data": {
      "text/plain": [
       "0.9179732709473957"
      ]
     },
     "execution_count": 52,
     "metadata": {},
     "output_type": "execute_result"
    }
   ],
   "source": [
    "a.recall()"
   ]
  },
  {
   "cell_type": "code",
   "execution_count": 56,
   "metadata": {
    "collapsed": false
   },
   "outputs": [
    {
     "name": "stdout",
     "output_type": "stream",
     "text": [
      "Thresholds: [ 0.1  0.2  0.3  0.4  0.5  0.6  0.7  0.8  0.9]\n"
     ]
    }
   ],
   "source": [
    "\"\"\"Try different threshold values and plot the precision recall curve\"\"\"\n",
    "\n",
    "t = np.linspace(0.1, 0.9, num = 9)\n",
    "print (\"Thresholds:\"), t\n",
    "\n",
    "precision = []\n",
    "recall = []\n",
    "\n",
    "for th in t:\n",
    "    b = precision_recall(pred = p, label = l, threshold = th)\n",
    "    precision.append(b.precision())\n",
    "    recall.append(b.recall())\n",
    "    "
   ]
  },
  {
   "cell_type": "code",
   "execution_count": 57,
   "metadata": {
    "collapsed": false
   },
   "outputs": [
    {
     "data": {
      "text/plain": [
       "[0.47249965384234993,\n",
       " 0.5477984561434832,\n",
       " 0.6056789303318115,\n",
       " 0.6560147602326777,\n",
       " 0.7026446975030545,\n",
       " 0.7468991924552822,\n",
       " 0.7905257339300182,\n",
       " 0.8357656059439463,\n",
       " 0.8856478194233793]"
      ]
     },
     "execution_count": 57,
     "metadata": {},
     "output_type": "execute_result"
    }
   ],
   "source": [
    "precision"
   ]
  },
  {
   "cell_type": "code",
   "execution_count": 58,
   "metadata": {
    "collapsed": false
   },
   "outputs": [
    {
     "data": {
      "text/plain": [
       "[0.985252083128822,\n",
       " 0.9718875568266654,\n",
       " 0.9566851091245209,\n",
       " 0.9388750898131474,\n",
       " 0.9179732709473957,\n",
       " 0.893208352478348,\n",
       " 0.8612097119462416,\n",
       " 0.8157360058536312,\n",
       " 0.7336284346568622]"
      ]
     },
     "execution_count": 58,
     "metadata": {},
     "output_type": "execute_result"
    }
   ],
   "source": [
    "recall"
   ]
  },
  {
   "cell_type": "code",
   "execution_count": 59,
   "metadata": {
    "collapsed": true
   },
   "outputs": [],
   "source": [
    "import matplotlib.pyplot as plt\n",
    "%matplotlib inline"
   ]
  },
  {
   "cell_type": "code",
   "execution_count": 66,
   "metadata": {
    "collapsed": false
   },
   "outputs": [
    {
     "data": {
      "image/png": "[encoded data removed]",
      "text/plain": [
       "<matplotlib.figure.Figure at 0x7f279056bd50>"
      ]
     },
     "metadata": {},
     "output_type": "display_data"
    }
   ],
   "source": [
    "plt.plot(precision, recall, 'ro')\n",
    "plt.plot(precision, recall, '--', linewidth=2)\n",
    "plt.xlabel('precision')\n",
    "plt.ylabel('recall')\n",
    "plt.show()"
   ]
  },
  {
   "cell_type": "code",
   "execution_count": null,
   "metadata": {
    "collapsed": true
   },
   "outputs": [],
   "source": []
  }
 ],
 "metadata": {
  "kernelspec": {
   "display_name": "Python 2",
   "language": "python",
   "name": "python2"
  },
  "language_info": {
   "codemirror_mode": {
    "name": "ipython",
    "version": 2
   },
   "file_extension": ".py",
   "mimetype": "text/x-python",
   "name": "python",
   "nbconvert_exporter": "python",
   "pygments_lexer": "ipython2",
   "version": "2.7.11"
  }
 },
 "nbformat": 4,
 "nbformat_minor": 0
}
